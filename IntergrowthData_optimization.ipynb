{
 "cells": [
  {
   "cell_type": "code",
   "execution_count": 1,
   "metadata": {},
   "outputs": [],
   "source": [
    "from sklearn.model_selection import train_test_split\n",
    "from FetusGrowth_BWPrediction import *\n",
    "import pandas as pd\n",
    "import numpy as np"
   ]
  },
  {
   "cell_type": "code",
   "execution_count": 2,
   "metadata": {},
   "outputs": [],
   "source": [
    "data_df = pd.read_csv('seethapathyCleanedData.csv')\n",
    "data = getMeasurements_int(data_df)"
   ]
  },
  {
   "cell_type": "code",
   "execution_count": 3,
   "metadata": {},
   "outputs": [],
   "source": [
    "X = data.drop(['BIRTH_WEIGHT'], axis=1)\n",
    "y = data['BIRTH_WEIGHT']\n",
    "X_train, X_test, y_train, y_test = train_test_split(X, y, test_size=0.50, random_state=42)"
   ]
  },
  {
   "cell_type": "code",
   "execution_count": 4,
   "metadata": {},
   "outputs": [],
   "source": [
    "# Optimize the variables for Head Circumference\n",
    "initt0_hc, initc_hc = 15,1\n",
    "initA_hc = np.array([300] * len(X_train))\n",
    "A_hc,t0_hc,c_hc,mpe_hc,mpe_data_hc = OptimizeVariable(initt0_hc,initc_hc,\n",
    "                                                        initA_hc,list(X_train['GA']),list(X_train['HC']))"
   ]
  },
  {
   "cell_type": "code",
   "execution_count": 5,
   "metadata": {},
   "outputs": [],
   "source": [
    "# Optimize the variables for Abdominal Circumference\n",
    "\n",
    "initt0_ac, initc_ac = 15,1\n",
    "initA_ac =  np.array([300] * len(X_train))\n",
    "A_ac,t0_ac,c_ac,mpe_ac,mpe_data_ac = OptimizeVariable(initt0_ac,initc_ac,\n",
    "                                                        initA_ac,list(X_train['GA']),list(X_train['AC']))"
   ]
  },
  {
   "cell_type": "code",
   "execution_count": 6,
   "metadata": {},
   "outputs": [],
   "source": [
    "# Optimize the variables for Biparietal Diameter\n",
    "initt0_bpd, initc_bpd = 15,1\n",
    "initA_bpd =  np.array([300] * len(X_train))\n",
    "A_bpd,t0_bpd,c_bpd,mpe_bpd,mpe_data_bpd = OptimizeVariable(initt0_bpd,initc_bpd,\n",
    "                                                        initA_bpd,list(X_train['GA']),list(X_train['BPD']))"
   ]
  },
  {
   "cell_type": "code",
   "execution_count": 7,
   "metadata": {},
   "outputs": [],
   "source": [
    "# Optimize the variables for Femur length\n",
    "initt0_fl, initc_fl =  15,1\n",
    "initA_fl =  np.array([300] * len(X_train))\n",
    "A_fl,t0_fl,c_fl,mpe_fl,mpe_data_fl = OptimizeVariable(initt0_fl,initc_fl,\n",
    "                                                        initA_fl,list(X_train['GA']),list(X_train['FL_Rt']))"
   ]
  },
  {
   "cell_type": "code",
   "execution_count": 8,
   "metadata": {},
   "outputs": [],
   "source": [
    "pd.DataFrame(zip(A_hc,A_ac,A_bpd,A_fl), \n",
    "             columns =['Avalue_hc','Avalue_ac','Avalue_bpd','Avalue_fl']).to_csv('Avalue50%.csv',index = False)"
   ]
  },
  {
   "cell_type": "code",
   "execution_count": 9,
   "metadata": {},
   "outputs": [],
   "source": [
    "pd.DataFrame(list(zip([t0_hc],[c_hc],[t0_ac],[c_ac],[t0_bpd],[c_bpd],[t0_fl],[c_fl])),\n",
    "             columns =['t0_hc','c_hc','t0_ac','c_ac','t0_bpd','c_bpd','t0_fl','c_fl']).to_csv('t0_c50%.csv',\n",
    "                                                                                              index = False)"
   ]
  }
 ],
 "metadata": {
  "kernelspec": {
   "display_name": "Python 3 (ipykernel)",
   "language": "python",
   "name": "python3"
  },
  "language_info": {
   "codemirror_mode": {
    "name": "ipython",
    "version": 3
   },
   "file_extension": ".py",
   "mimetype": "text/x-python",
   "name": "python",
   "nbconvert_exporter": "python",
   "pygments_lexer": "ipython3",
   "version": "3.9.12"
  }
 },
 "nbformat": 4,
 "nbformat_minor": 2
}
