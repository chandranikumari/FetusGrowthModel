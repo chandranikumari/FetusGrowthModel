{
 "cells": [
  {
   "cell_type": "code",
   "execution_count": 1,
   "metadata": {},
   "outputs": [],
   "source": [
    "from sklearn.linear_model import LinearRegression\n",
    "from sklearn.model_selection import LeaveOneOut\n",
    "from sklearn.model_selection import KFold\n",
    "from sklearn.linear_model import Lasso\n",
    "from FetusGrowth_BWPrediction import *\n",
    "from matplotlib import pyplot as plt\n",
    "import pandas as pd\n",
    "import numpy as np"
   ]
  },
  {
   "cell_type": "code",
   "execution_count": 2,
   "metadata": {},
   "outputs": [
    {
     "data": {
      "text/plain": [
       "sklearn.exceptions.ConvergenceWarning('ignore')"
      ]
     },
     "execution_count": 2,
     "metadata": {},
     "output_type": "execute_result"
    }
   ],
   "source": [
    "import warnings\n",
    "warnings.simplefilter(action='ignore', category=FutureWarning)\n",
    "\n",
    "from sklearn.exceptions import ConvergenceWarning\n",
    "ConvergenceWarning('ignore')"
   ]
  },
  {
   "cell_type": "code",
   "execution_count": 3,
   "metadata": {},
   "outputs": [],
   "source": [
    "data_df = pd.read_csv('seethapathyCleanedData.csv')\n",
    "data = getMeasurements_int(data_df)\n",
    "data = data.drop([i for i in range(len(data['GA'])) if list(data['GA'])[i][1] > 24]).reset_index(drop = True)\n",
    "data = data.drop([i for i in range(len(data['GA'])) if list(data['GA'])[i][-1] < 27]).reset_index(drop = True)\n",
    "ml_data = rmMultipleUS(data)\n",
    "column_toDrop = ['NEONATAL_COMPLICATIONS']\n",
    "\n",
    "X = ml_data.drop(column_toDrop, axis=1)\n",
    "y = ml_data['BIRTH_WEIGHT']"
   ]
  },
  {
   "cell_type": "markdown",
   "metadata": {},
   "source": [
    "# Birth weight prediction using data upto 24 and 35 Week Prediction"
   ]
  },
  {
   "cell_type": "code",
   "execution_count": null,
   "metadata": {},
   "outputs": [],
   "source": [
    "''' Leave one out for birth weight prediction '''\n",
    "\n",
    "loo = LeaveOneOut()\n",
    "y_true_list, y_pred_list,fi_coeff_list = [],[],[]\n",
    "df = pd.DataFrame(columns = ['Alpha', 'Score','BWPredicted24','BWPredicted35','BWActual','Parameter_coeff','intercept'])\n",
    "pred_df = pd.DataFrame(columns = ['HC24','AC24','BPD24','FL24','A_HC24','A_AC24','A_BPD24','A_FL24',\n",
    "                       'HC35','AC35','BPD35','FL35','A_HC35','A_AC35','A_BPD35','A_FL35',\n",
    "                       'HC24_atDel','AC24_atDel','BPD24_atDel','FL24_atDel','A_HC24_atDel',\n",
    "                       'A_AC24_atDel','A_BPD24_atDel','A_FL24_atDel','HC35_atDel','AC35_atDel',\n",
    "                       'BPD35_atDel','FL35_atDel','A_HC35_atDel','A_AC35_atDel','A_BPD35_atDel','A_FL35_atDel'])\n",
    "\n",
    "\n",
    "i = 0\n",
    "initt0_hc, initc_hc,initt0_ac, initc_ac,initt0_bpd,initc_bpd,initt0_fl, initc_fl = 15,1,15,1,15,1,15,1\n",
    "initA_hc = np.ones(len(X)-1)*300; initA_ac = np.ones(len(X)-1)*300\n",
    "initA_bpd = np.ones(len(X)-1)*100; initA_fl = np.ones(len(X)-1)*100\n",
    "\n",
    "for train_init_index, test_init_index in loo.split(X):\n",
    "    \n",
    "    X_train_init, X_test_init, y_train_init, y_test_init = X.iloc[train_init_index], X.iloc[test_init_index], y.iloc[train_init_index], y.iloc[test_init_index]                           \n",
    "    A_hc,t0_hc,c_hc, A_ac,t0_ac,c_ac,A_bpd,t0_bpd,c_bpd,A_fl,t0_fl,c_fl = OptimizeVarAllMeasure(X_train_init,\n",
    "                                                                        initA_hc,initt0_hc, initc_hc,initA_ac,\n",
    "                                                                        initt0_ac, initc_ac,initA_bpd,initt0_bpd, \n",
    "                                                                        initc_bpd,initA_fl,initt0_fl, initc_fl)\n",
    "    \n",
    "    initt0_hc, initc_hc,initt0_ac, initc_ac,initt0_bpd,initc_bpd,initt0_fl, initc_fl = t0_hc,c_hc, t0_ac,c_ac,t0_bpd,c_bpd,t0_fl,c_fl\n",
    "    initA_hc,initA_ac,initA_bpd,initA_fl = A_hc, A_ac, A_bpd, A_fl\n",
    "\n",
    "    print('\\n Optimization done!!')\n",
    "    X_train_init = X_train_init.reset_index(drop = True)\n",
    "    y_train_init = y_train_init.reset_index(drop = True)\n",
    "    \n",
    "    X_train_init = predictParam(X_train_init,A_hc,t0_hc,c_hc,A_ac,t0_ac,c_ac,A_bpd,t0_bpd,c_bpd,A_fl,t0_fl,c_fl)\n",
    "    \n",
    "    y_test_init = y_test_init.reset_index(drop = True)\n",
    "    X_test_init = X_test_init.reset_index(drop = True)\n",
    "    \n",
    "    index_ga24 = [get_count_GALessThan24(x) for x in X_test_init['GA']]\n",
    "    index_ga35 = [get_count_GALessThan35(x) for x in X_test_init['GA']]\n",
    "    gaDel = list(X_test_init['GA_AT_DELIVERY'])\n",
    "    X_test_init24 = CalA_predBiometries(X_test_init, t0_hc, c_hc, t0_ac, c_ac, t0_bpd,c_bpd, t0_fl, c_fl,\n",
    "                                      index_ga24, gaDel)\n",
    "    X_test_init35 = CalA_predBiometries(X_test_init, t0_hc, c_hc, t0_ac, c_ac, t0_bpd,c_bpd, t0_fl, c_fl,\n",
    "                                      index_ga35, gaDel)\n",
    "    \n",
    "    galast = [ga[-1] for ga in X_test_init['GA']]\n",
    "    \n",
    "    X_test_init24_last = CalA_predBiometries(X_test_init, t0_hc, c_hc, t0_ac, c_ac, t0_bpd,c_bpd, t0_fl, c_fl,\n",
    "                                      index_ga24, galast)\n",
    "    X_test_init35_last = CalA_predBiometries(X_test_init, t0_hc, c_hc, t0_ac, c_ac, t0_bpd,c_bpd, t0_fl, c_fl,\n",
    "                                      index_ga35, galast)\n",
    "                       \n",
    "    temp_df = pd.concat([X_test_init24_last,X_test_init35_last,X_test_init24,X_test_init35],axis=1, join='inner')\n",
    "    temp_df.columns = ['HC24','AC24','BPD24','FL24','A_HC24','A_AC24','A_BPD24','A_FL24',\n",
    "                       'HC35','AC35','BPD35','FL35','A_HC35','A_AC35','A_BPD35','A_FL35',\n",
    "                       'HC24_atDel','AC24_atDel','BPD24_atDel','FL24_atDel','A_HC24_atDel',\n",
    "                       'A_AC24_atDel','A_BPD24_atDel','A_FL24_atDel','HC35_atDel','AC35_atDel',\n",
    "                       'BPD35_atDel','FL35_atDel','A_HC35_atDel','A_AC35_atDel','A_BPD35_atDel','A_FL35_atDel']\n",
    "    \n",
    "    pred_df = pd.concat([pred_df,temp_df],axis=0, join='inner') \n",
    "            \n",
    "    #alphas = np.arange(0.006, 0.015, 0.001)\n",
    "    alphas = [0]\n",
    "    avg_scores = []\n",
    "\n",
    "    kf = KFold(n_splits=5, shuffle=True, random_state=10)\n",
    "    \n",
    "    for a in alphas:\n",
    "        scores_lasso = []\n",
    "        \n",
    "        for train_index, test_index in kf.split(X_train_init):\n",
    "            \n",
    "            X_train, X_test, y_train, y_test = X_train_init.iloc[train_index], X_train_init.iloc[test_index], y_train_init.iloc[train_index], y_train_init.iloc[test_index]\n",
    "            scores_lasso.append(get_score(Lasso(alpha = a,normalize = True), X_train, X_test, y_train, y_test)[0])\n",
    "        \n",
    "        avg_scores.append(round(np.average(scores_lasso),6))\n",
    "    test_output24 = get_score(Lasso(alpha = alphas[avg_scores.index(max(avg_scores))]), X_train_init, X_test_init24,\n",
    "                           y_train_init,y_test_init)\n",
    "    \n",
    "    test_output35 = get_score(Lasso(alpha = alphas[avg_scores.index(max(avg_scores))]), X_train_init, X_test_init35,\n",
    "                           y_train_init,y_test_init)\n",
    "    \n",
    "    df = df.append({'Alpha' : alphas[avg_scores.index(max(avg_scores))], 'Score': test_output24[0],\n",
    "                    'BWPredicted24' : test_output24[1],'BWPredicted35': test_output35[1], 'BWActual' : y_test_init, \n",
    "                    'Parameter_coeff' : test_output24[2],'intercept' : test_output24[3]},ignore_index = True)\n",
    "    \n",
    "    i = i+1\n",
    "    print(i)\n",
    "    "
   ]
  },
  {
   "cell_type": "code",
   "execution_count": null,
   "metadata": {},
   "outputs": [],
   "source": [
    "df.to_pickle('BWPridiction_LR.pickle')\n",
    "pred_df.to_pickle('predictedVal.pickle')"
   ]
  },
  {
   "cell_type": "code",
   "execution_count": null,
   "metadata": {},
   "outputs": [],
   "source": []
  }
 ],
 "metadata": {
  "kernelspec": {
   "display_name": "Python 3 (ipykernel)",
   "language": "python",
   "name": "python3"
  },
  "language_info": {
   "codemirror_mode": {
    "name": "ipython",
    "version": 3
   },
   "file_extension": ".py",
   "mimetype": "text/x-python",
   "name": "python",
   "nbconvert_exporter": "python",
   "pygments_lexer": "ipython3",
   "version": "3.9.12"
  }
 },
 "nbformat": 4,
 "nbformat_minor": 2
}
